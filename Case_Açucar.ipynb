{
  "nbformat": 4,
  "nbformat_minor": 0,
  "metadata": {
    "colab": {
      "provenance": [],
      "include_colab_link": true
    },
    "kernelspec": {
      "name": "python3",
      "display_name": "Python 3"
    },
    "language_info": {
      "name": "python"
    }
  },
  "cells": [
    {
      "cell_type": "markdown",
      "metadata": {
        "id": "view-in-github",
        "colab_type": "text"
      },
      "source": [
        "<a href=\"https://colab.research.google.com/github/pauladm251/Projetos-Python/blob/main/Case_A%C3%A7ucar.ipynb\" target=\"_parent\"><img src=\"https://colab.research.google.com/assets/colab-badge.svg\" alt=\"Open In Colab\"/></a>"
      ]
    },
    {
      "cell_type": "markdown",
      "source": [
        "# **Prepara ambiente para upload dos dados.**"
      ],
      "metadata": {
        "id": "4Tw93FvW9JLE"
      }
    },
    {
      "cell_type": "code",
      "source": [
        "from google.colab import files\n",
        "uploaded = files.upload()"
      ],
      "metadata": {
        "id": "6rlIp2w29LyZ",
        "colab": {
          "base_uri": "https://localhost:8080/",
          "height": 73
        },
        "outputId": "64a80f86-9282-4e46-94a3-495c9ee2c951"
      },
      "execution_count": null,
      "outputs": [
        {
          "output_type": "display_data",
          "data": {
            "text/plain": [
              "<IPython.core.display.HTML object>"
            ],
            "text/html": [
              "\n",
              "     <input type=\"file\" id=\"files-99f88daa-0a2f-494a-af7e-20a184f4703d\" name=\"files[]\" multiple disabled\n",
              "        style=\"border:none\" />\n",
              "     <output id=\"result-99f88daa-0a2f-494a-af7e-20a184f4703d\">\n",
              "      Upload widget is only available when the cell has been executed in the\n",
              "      current browser session. Please rerun this cell to enable.\n",
              "      </output>\n",
              "      <script>// Copyright 2017 Google LLC\n",
              "//\n",
              "// Licensed under the Apache License, Version 2.0 (the \"License\");\n",
              "// you may not use this file except in compliance with the License.\n",
              "// You may obtain a copy of the License at\n",
              "//\n",
              "//      http://www.apache.org/licenses/LICENSE-2.0\n",
              "//\n",
              "// Unless required by applicable law or agreed to in writing, software\n",
              "// distributed under the License is distributed on an \"AS IS\" BASIS,\n",
              "// WITHOUT WARRANTIES OR CONDITIONS OF ANY KIND, either express or implied.\n",
              "// See the License for the specific language governing permissions and\n",
              "// limitations under the License.\n",
              "\n",
              "/**\n",
              " * @fileoverview Helpers for google.colab Python module.\n",
              " */\n",
              "(function(scope) {\n",
              "function span(text, styleAttributes = {}) {\n",
              "  const element = document.createElement('span');\n",
              "  element.textContent = text;\n",
              "  for (const key of Object.keys(styleAttributes)) {\n",
              "    element.style[key] = styleAttributes[key];\n",
              "  }\n",
              "  return element;\n",
              "}\n",
              "\n",
              "// Max number of bytes which will be uploaded at a time.\n",
              "const MAX_PAYLOAD_SIZE = 100 * 1024;\n",
              "\n",
              "function _uploadFiles(inputId, outputId) {\n",
              "  const steps = uploadFilesStep(inputId, outputId);\n",
              "  const outputElement = document.getElementById(outputId);\n",
              "  // Cache steps on the outputElement to make it available for the next call\n",
              "  // to uploadFilesContinue from Python.\n",
              "  outputElement.steps = steps;\n",
              "\n",
              "  return _uploadFilesContinue(outputId);\n",
              "}\n",
              "\n",
              "// This is roughly an async generator (not supported in the browser yet),\n",
              "// where there are multiple asynchronous steps and the Python side is going\n",
              "// to poll for completion of each step.\n",
              "// This uses a Promise to block the python side on completion of each step,\n",
              "// then passes the result of the previous step as the input to the next step.\n",
              "function _uploadFilesContinue(outputId) {\n",
              "  const outputElement = document.getElementById(outputId);\n",
              "  const steps = outputElement.steps;\n",
              "\n",
              "  const next = steps.next(outputElement.lastPromiseValue);\n",
              "  return Promise.resolve(next.value.promise).then((value) => {\n",
              "    // Cache the last promise value to make it available to the next\n",
              "    // step of the generator.\n",
              "    outputElement.lastPromiseValue = value;\n",
              "    return next.value.response;\n",
              "  });\n",
              "}\n",
              "\n",
              "/**\n",
              " * Generator function which is called between each async step of the upload\n",
              " * process.\n",
              " * @param {string} inputId Element ID of the input file picker element.\n",
              " * @param {string} outputId Element ID of the output display.\n",
              " * @return {!Iterable<!Object>} Iterable of next steps.\n",
              " */\n",
              "function* uploadFilesStep(inputId, outputId) {\n",
              "  const inputElement = document.getElementById(inputId);\n",
              "  inputElement.disabled = false;\n",
              "\n",
              "  const outputElement = document.getElementById(outputId);\n",
              "  outputElement.innerHTML = '';\n",
              "\n",
              "  const pickedPromise = new Promise((resolve) => {\n",
              "    inputElement.addEventListener('change', (e) => {\n",
              "      resolve(e.target.files);\n",
              "    });\n",
              "  });\n",
              "\n",
              "  const cancel = document.createElement('button');\n",
              "  inputElement.parentElement.appendChild(cancel);\n",
              "  cancel.textContent = 'Cancel upload';\n",
              "  const cancelPromise = new Promise((resolve) => {\n",
              "    cancel.onclick = () => {\n",
              "      resolve(null);\n",
              "    };\n",
              "  });\n",
              "\n",
              "  // Wait for the user to pick the files.\n",
              "  const files = yield {\n",
              "    promise: Promise.race([pickedPromise, cancelPromise]),\n",
              "    response: {\n",
              "      action: 'starting',\n",
              "    }\n",
              "  };\n",
              "\n",
              "  cancel.remove();\n",
              "\n",
              "  // Disable the input element since further picks are not allowed.\n",
              "  inputElement.disabled = true;\n",
              "\n",
              "  if (!files) {\n",
              "    return {\n",
              "      response: {\n",
              "        action: 'complete',\n",
              "      }\n",
              "    };\n",
              "  }\n",
              "\n",
              "  for (const file of files) {\n",
              "    const li = document.createElement('li');\n",
              "    li.append(span(file.name, {fontWeight: 'bold'}));\n",
              "    li.append(span(\n",
              "        `(${file.type || 'n/a'}) - ${file.size} bytes, ` +\n",
              "        `last modified: ${\n",
              "            file.lastModifiedDate ? file.lastModifiedDate.toLocaleDateString() :\n",
              "                                    'n/a'} - `));\n",
              "    const percent = span('0% done');\n",
              "    li.appendChild(percent);\n",
              "\n",
              "    outputElement.appendChild(li);\n",
              "\n",
              "    const fileDataPromise = new Promise((resolve) => {\n",
              "      const reader = new FileReader();\n",
              "      reader.onload = (e) => {\n",
              "        resolve(e.target.result);\n",
              "      };\n",
              "      reader.readAsArrayBuffer(file);\n",
              "    });\n",
              "    // Wait for the data to be ready.\n",
              "    let fileData = yield {\n",
              "      promise: fileDataPromise,\n",
              "      response: {\n",
              "        action: 'continue',\n",
              "      }\n",
              "    };\n",
              "\n",
              "    // Use a chunked sending to avoid message size limits. See b/62115660.\n",
              "    let position = 0;\n",
              "    do {\n",
              "      const length = Math.min(fileData.byteLength - position, MAX_PAYLOAD_SIZE);\n",
              "      const chunk = new Uint8Array(fileData, position, length);\n",
              "      position += length;\n",
              "\n",
              "      const base64 = btoa(String.fromCharCode.apply(null, chunk));\n",
              "      yield {\n",
              "        response: {\n",
              "          action: 'append',\n",
              "          file: file.name,\n",
              "          data: base64,\n",
              "        },\n",
              "      };\n",
              "\n",
              "      let percentDone = fileData.byteLength === 0 ?\n",
              "          100 :\n",
              "          Math.round((position / fileData.byteLength) * 100);\n",
              "      percent.textContent = `${percentDone}% done`;\n",
              "\n",
              "    } while (position < fileData.byteLength);\n",
              "  }\n",
              "\n",
              "  // All done.\n",
              "  yield {\n",
              "    response: {\n",
              "      action: 'complete',\n",
              "    }\n",
              "  };\n",
              "}\n",
              "\n",
              "scope.google = scope.google || {};\n",
              "scope.google.colab = scope.google.colab || {};\n",
              "scope.google.colab._files = {\n",
              "  _uploadFiles,\n",
              "  _uploadFilesContinue,\n",
              "};\n",
              "})(self);\n",
              "</script> "
            ]
          },
          "metadata": {}
        },
        {
          "output_type": "stream",
          "name": "stdout",
          "text": [
            "Saving indicador.xlsx to indicador.xlsx\n"
          ]
        }
      ]
    },
    {
      "cell_type": "markdown",
      "source": [
        "#**Pacotes**"
      ],
      "metadata": {
        "id": "mFBS9JZZqy2W"
      }
    },
    {
      "cell_type": "code",
      "source": [
        "import pandas as pd\n",
        "import datetime\n",
        "from statsmodels.graphics.tsaplots import plot_acf,plot_pacf\n",
        "import statsmodels.api as sm\n",
        "import numpy as np\n",
        "import tensorflow as tf\n",
        "import seaborn as sns\n",
        "import matplotlib.pyplot as plt\n",
        "from sklearn import preprocessing\n",
        "from sklearn.metrics import confusion_matrix,accuracy_score\n",
        "from sklearn.preprocessing import LabelEncoder, MinMaxScaler\n",
        "from sklearn.model_selection import train_test_split,KFold,StratifiedKFold\n",
        "from tensorflow.keras import datasets, layers, models\n",
        "import random\n",
        "\n",
        "np.random.seed(123)\n",
        "tf.random.set_seed(1234)"
      ],
      "metadata": {
        "id": "wMqUSY5S4B4D"
      },
      "execution_count": null,
      "outputs": []
    },
    {
      "cell_type": "markdown",
      "source": [
        "# **Pré-procsssamento e análise dos dados**"
      ],
      "metadata": {
        "id": "yZ0FxD3gqmIg"
      }
    },
    {
      "cell_type": "code",
      "source": [
        "dados = pd.read_excel('/content/indicador.xlsx')\n",
        "dados.head()"
      ],
      "metadata": {
        "colab": {
          "base_uri": "https://localhost:8080/",
          "height": 206
        },
        "id": "8CvJoiEwrGAF",
        "outputId": "d27125fa-95bc-4a1f-8c4d-2f92887b6376"
      },
      "execution_count": null,
      "outputs": [
        {
          "output_type": "execute_result",
          "data": {
            "text/plain": [
              "         data  indicador\n",
              "0  01/08/2019      58.24\n",
              "1  02/08/2019      58.51\n",
              "2  05/08/2019      59.40\n",
              "3  06/08/2019      59.44\n",
              "4  07/08/2019      59.75"
            ],
            "text/html": [
              "\n",
              "  <div id=\"df-dc1dec79-90dc-4aef-8f52-dd1e1ff77f88\">\n",
              "    <div class=\"colab-df-container\">\n",
              "      <div>\n",
              "<style scoped>\n",
              "    .dataframe tbody tr th:only-of-type {\n",
              "        vertical-align: middle;\n",
              "    }\n",
              "\n",
              "    .dataframe tbody tr th {\n",
              "        vertical-align: top;\n",
              "    }\n",
              "\n",
              "    .dataframe thead th {\n",
              "        text-align: right;\n",
              "    }\n",
              "</style>\n",
              "<table border=\"1\" class=\"dataframe\">\n",
              "  <thead>\n",
              "    <tr style=\"text-align: right;\">\n",
              "      <th></th>\n",
              "      <th>data</th>\n",
              "      <th>indicador</th>\n",
              "    </tr>\n",
              "  </thead>\n",
              "  <tbody>\n",
              "    <tr>\n",
              "      <th>0</th>\n",
              "      <td>01/08/2019</td>\n",
              "      <td>58.24</td>\n",
              "    </tr>\n",
              "    <tr>\n",
              "      <th>1</th>\n",
              "      <td>02/08/2019</td>\n",
              "      <td>58.51</td>\n",
              "    </tr>\n",
              "    <tr>\n",
              "      <th>2</th>\n",
              "      <td>05/08/2019</td>\n",
              "      <td>59.40</td>\n",
              "    </tr>\n",
              "    <tr>\n",
              "      <th>3</th>\n",
              "      <td>06/08/2019</td>\n",
              "      <td>59.44</td>\n",
              "    </tr>\n",
              "    <tr>\n",
              "      <th>4</th>\n",
              "      <td>07/08/2019</td>\n",
              "      <td>59.75</td>\n",
              "    </tr>\n",
              "  </tbody>\n",
              "</table>\n",
              "</div>\n",
              "      <button class=\"colab-df-convert\" onclick=\"convertToInteractive('df-dc1dec79-90dc-4aef-8f52-dd1e1ff77f88')\"\n",
              "              title=\"Convert this dataframe to an interactive table.\"\n",
              "              style=\"display:none;\">\n",
              "        \n",
              "  <svg xmlns=\"http://www.w3.org/2000/svg\" height=\"24px\"viewBox=\"0 0 24 24\"\n",
              "       width=\"24px\">\n",
              "    <path d=\"M0 0h24v24H0V0z\" fill=\"none\"/>\n",
              "    <path d=\"M18.56 5.44l.94 2.06.94-2.06 2.06-.94-2.06-.94-.94-2.06-.94 2.06-2.06.94zm-11 1L8.5 8.5l.94-2.06 2.06-.94-2.06-.94L8.5 2.5l-.94 2.06-2.06.94zm10 10l.94 2.06.94-2.06 2.06-.94-2.06-.94-.94-2.06-.94 2.06-2.06.94z\"/><path d=\"M17.41 7.96l-1.37-1.37c-.4-.4-.92-.59-1.43-.59-.52 0-1.04.2-1.43.59L10.3 9.45l-7.72 7.72c-.78.78-.78 2.05 0 2.83L4 21.41c.39.39.9.59 1.41.59.51 0 1.02-.2 1.41-.59l7.78-7.78 2.81-2.81c.8-.78.8-2.07 0-2.86zM5.41 20L4 18.59l7.72-7.72 1.47 1.35L5.41 20z\"/>\n",
              "  </svg>\n",
              "      </button>\n",
              "      \n",
              "  <style>\n",
              "    .colab-df-container {\n",
              "      display:flex;\n",
              "      flex-wrap:wrap;\n",
              "      gap: 12px;\n",
              "    }\n",
              "\n",
              "    .colab-df-convert {\n",
              "      background-color: #E8F0FE;\n",
              "      border: none;\n",
              "      border-radius: 50%;\n",
              "      cursor: pointer;\n",
              "      display: none;\n",
              "      fill: #1967D2;\n",
              "      height: 32px;\n",
              "      padding: 0 0 0 0;\n",
              "      width: 32px;\n",
              "    }\n",
              "\n",
              "    .colab-df-convert:hover {\n",
              "      background-color: #E2EBFA;\n",
              "      box-shadow: 0px 1px 2px rgba(60, 64, 67, 0.3), 0px 1px 3px 1px rgba(60, 64, 67, 0.15);\n",
              "      fill: #174EA6;\n",
              "    }\n",
              "\n",
              "    [theme=dark] .colab-df-convert {\n",
              "      background-color: #3B4455;\n",
              "      fill: #D2E3FC;\n",
              "    }\n",
              "\n",
              "    [theme=dark] .colab-df-convert:hover {\n",
              "      background-color: #434B5C;\n",
              "      box-shadow: 0px 1px 3px 1px rgba(0, 0, 0, 0.15);\n",
              "      filter: drop-shadow(0px 1px 2px rgba(0, 0, 0, 0.3));\n",
              "      fill: #FFFFFF;\n",
              "    }\n",
              "  </style>\n",
              "\n",
              "      <script>\n",
              "        const buttonEl =\n",
              "          document.querySelector('#df-dc1dec79-90dc-4aef-8f52-dd1e1ff77f88 button.colab-df-convert');\n",
              "        buttonEl.style.display =\n",
              "          google.colab.kernel.accessAllowed ? 'block' : 'none';\n",
              "\n",
              "        async function convertToInteractive(key) {\n",
              "          const element = document.querySelector('#df-dc1dec79-90dc-4aef-8f52-dd1e1ff77f88');\n",
              "          const dataTable =\n",
              "            await google.colab.kernel.invokeFunction('convertToInteractive',\n",
              "                                                     [key], {});\n",
              "          if (!dataTable) return;\n",
              "\n",
              "          const docLinkHtml = 'Like what you see? Visit the ' +\n",
              "            '<a target=\"_blank\" href=https://colab.research.google.com/notebooks/data_table.ipynb>data table notebook</a>'\n",
              "            + ' to learn more about interactive tables.';\n",
              "          element.innerHTML = '';\n",
              "          dataTable['output_type'] = 'display_data';\n",
              "          await google.colab.output.renderOutput(dataTable, element);\n",
              "          const docLink = document.createElement('div');\n",
              "          docLink.innerHTML = docLinkHtml;\n",
              "          element.appendChild(docLink);\n",
              "        }\n",
              "      </script>\n",
              "    </div>\n",
              "  </div>\n",
              "  "
            ]
          },
          "metadata": {},
          "execution_count": 4
        }
      ]
    },
    {
      "cell_type": "code",
      "source": [
        "plt.figure(figsize=(12, 6))\n",
        "dados[\"data\"] = pd.to_datetime(dados[\"data\"], format = \"%d/%m/%Y\")\n",
        "sns.lineplot(data=dados, x=\"data\", y=\"indicador\")"
      ],
      "metadata": {
        "colab": {
          "base_uri": "https://localhost:8080/",
          "height": 405
        },
        "id": "UJrTKhmdsLRs",
        "outputId": "914c9cde-dc86-4890-c9e5-ba795c5a2b7a"
      },
      "execution_count": null,
      "outputs": [
        {
          "output_type": "execute_result",
          "data": {
            "text/plain": [
              "<AxesSubplot:xlabel='data', ylabel='indicador'>"
            ]
          },
          "metadata": {},
          "execution_count": 5
        },
        {
          "output_type": "display_data",
          "data": {
            "text/plain": [
              "<Figure size 864x432 with 1 Axes>"
            ],
            "image/png": "[encoded data removed]"
          },
          "metadata": {
            "needs_background": "light"
          }
        }
      ]
    },
    {
      "cell_type": "code",
      "source": [
        "dados[\"indicador\"].describe()"
      ],
      "metadata": {
        "colab": {
          "base_uri": "https://localhost:8080/"
        },
        "id": "Hcobn_bV4PUs",
        "outputId": "a6b5cec6-f274-4777-e964-829ee58e8a1b"
      },
      "execution_count": null,
      "outputs": [
        {
          "output_type": "execute_result",
          "data": {
            "text/plain": [
              "count    767.000000\n",
              "mean     106.121239\n",
              "std       29.671650\n",
              "min       58.240000\n",
              "25%       77.065000\n",
              "50%      108.070000\n",
              "75%      131.055000\n",
              "max      157.430000\n",
              "Name: indicador, dtype: float64"
            ]
          },
          "metadata": {},
          "execution_count": 6
        }
      ]
    },
    {
      "cell_type": "code",
      "source": [
        "plt.hist(dados[\"indicador\"])"
      ],
      "metadata": {
        "colab": {
          "base_uri": "https://localhost:8080/",
          "height": 334
        },
        "id": "6bejTI5T4d9W",
        "outputId": "0dca8855-cc7a-48eb-c552-3109742f43fb"
      },
      "execution_count": null,
      "outputs": [
        {
          "output_type": "execute_result",
          "data": {
            "text/plain": [
              "(array([ 90., 130.,  68.,  20.,  72., 114.,  35.,  93.,  68.,  77.]),\n",
              " array([ 58.24 ,  68.159,  78.078,  87.997,  97.916, 107.835, 117.754,\n",
              "        127.673, 137.592, 147.511, 157.43 ]),\n",
              " <BarContainer object of 10 artists>)"
            ]
          },
          "metadata": {},
          "execution_count": 7
        },
        {
          "output_type": "display_data",
          "data": {
            "text/plain": [
              "<Figure size 432x288 with 1 Axes>"
            ],
            "image/png": "[encoded data removed]"
          },
          "metadata": {
            "needs_background": "light"
          }
        }
      ]
    },
    {
      "cell_type": "markdown",
      "source": [
        "# **Treinamento, Teste e Target**\n"
      ],
      "metadata": {
        "id": "quPq2QJVkvOm"
      }
    },
    {
      "cell_type": "code",
      "source": [
        "serie = dados[\"indicador\"]\n",
        "\n",
        "dados[\"feature_1\"] = serie.shift(-2)\n",
        "\n",
        "dados[\"feature_2\"] = serie.shift(-1)\n",
        "\n",
        "dados[\"target\"] = serie\n",
        "\n",
        "dados\n"
      ],
      "metadata": {
        "colab": {
          "base_uri": "https://localhost:8080/",
          "height": 423
        },
        "id": "fBLFoHS4yQ2f",
        "outputId": "18d795bb-1f6d-4f13-e84c-83af2cbce22b"
      },
      "execution_count": null,
      "outputs": [
        {
          "output_type": "execute_result",
          "data": {
            "text/plain": [
              "          data  indicador  feature_1  feature_2  target\n",
              "0   2019-08-01      58.24      59.40      58.51   58.24\n",
              "1   2019-08-02      58.51      59.44      59.40   58.51\n",
              "2   2019-08-05      59.40      59.75      59.44   59.40\n",
              "3   2019-08-06      59.44      59.65      59.75   59.44\n",
              "4   2019-08-07      59.75      59.50      59.65   59.75\n",
              "..         ...        ...        ...        ...     ...\n",
              "762 2022-08-23     129.10     128.08     128.15  129.10\n",
              "763 2022-08-24     128.15     127.73     128.08  128.15\n",
              "764 2022-08-25     128.08     128.20     127.73  128.08\n",
              "765 2022-08-26     127.73        NaN     128.20  127.73\n",
              "766 2022-08-29     128.20        NaN        NaN  128.20\n",
              "\n",
              "[767 rows x 5 columns]"
            ],
            "text/html": [
              "\n",
              "  <div id=\"df-56fedbe8-97e7-44a8-ab3f-4c4594d85cc9\">\n",
              "    <div class=\"colab-df-container\">\n",
              "      <div>\n",
              "<style scoped>\n",
              "    .dataframe tbody tr th:only-of-type {\n",
              "        vertical-align: middle;\n",
              "    }\n",
              "\n",
              "    .dataframe tbody tr th {\n",
              "        vertical-align: top;\n",
              "    }\n",
              "\n",
              "    .dataframe thead th {\n",
              "        text-align: right;\n",
              "    }\n",
              "</style>\n",
              "<table border=\"1\" class=\"dataframe\">\n",
              "  <thead>\n",
              "    <tr style=\"text-align: right;\">\n",
              "      <th></th>\n",
              "      <th>data</th>\n",
              "      <th>indicador</th>\n",
              "      <th>feature_1</th>\n",
              "      <th>feature_2</th>\n",
              "      <th>target</th>\n",
              "    </tr>\n",
              "  </thead>\n",
              "  <tbody>\n",
              "    <tr>\n",
              "      <th>0</th>\n",
              "      <td>2019-08-01</td>\n",
              "      <td>58.24</td>\n",
              "      <td>59.40</td>\n",
              "      <td>58.51</td>\n",
              "      <td>58.24</td>\n",
              "    </tr>\n",
              "    <tr>\n",
              "      <th>1</th>\n",
              "      <td>2019-08-02</td>\n",
              "      <td>58.51</td>\n",
              "      <td>59.44</td>\n",
              "      <td>59.40</td>\n",
              "      <td>58.51</td>\n",
              "    </tr>\n",
              "    <tr>\n",
              "      <th>2</th>\n",
              "      <td>2019-08-05</td>\n",
              "      <td>59.40</td>\n",
              "      <td>59.75</td>\n",
              "      <td>59.44</td>\n",
              "      <td>59.40</td>\n",
              "    </tr>\n",
              "    <tr>\n",
              "      <th>3</th>\n",
              "      <td>2019-08-06</td>\n",
              "      <td>59.44</td>\n",
              "      <td>59.65</td>\n",
              "      <td>59.75</td>\n",
              "      <td>59.44</td>\n",
              "    </tr>\n",
              "    <tr>\n",
              "      <th>4</th>\n",
              "      <td>2019-08-07</td>\n",
              "      <td>59.75</td>\n",
              "      <td>59.50</td>\n",
              "      <td>59.65</td>\n",
              "      <td>59.75</td>\n",
              "    </tr>\n",
              "    <tr>\n",
              "      <th>...</th>\n",
              "      <td>...</td>\n",
              "      <td>...</td>\n",
              "      <td>...</td>\n",
              "      <td>...</td>\n",
              "      <td>...</td>\n",
              "    </tr>\n",
              "    <tr>\n",
              "      <th>762</th>\n",
              "      <td>2022-08-23</td>\n",
              "      <td>129.10</td>\n",
              "      <td>128.08</td>\n",
              "      <td>128.15</td>\n",
              "      <td>129.10</td>\n",
              "    </tr>\n",
              "    <tr>\n",
              "      <th>763</th>\n",
              "      <td>2022-08-24</td>\n",
              "      <td>128.15</td>\n",
              "      <td>127.73</td>\n",
              "      <td>128.08</td>\n",
              "      <td>128.15</td>\n",
              "    </tr>\n",
              "    <tr>\n",
              "      <th>764</th>\n",
              "      <td>2022-08-25</td>\n",
              "      <td>128.08</td>\n",
              "      <td>128.20</td>\n",
              "      <td>127.73</td>\n",
              "      <td>128.08</td>\n",
              "    </tr>\n",
              "    <tr>\n",
              "      <th>765</th>\n",
              "      <td>2022-08-26</td>\n",
              "      <td>127.73</td>\n",
              "      <td>NaN</td>\n",
              "      <td>128.20</td>\n",
              "      <td>127.73</td>\n",
              "    </tr>\n",
              "    <tr>\n",
              "      <th>766</th>\n",
              "      <td>2022-08-29</td>\n",
              "      <td>128.20</td>\n",
              "      <td>NaN</td>\n",
              "      <td>NaN</td>\n",
              "      <td>128.20</td>\n",
              "    </tr>\n",
              "  </tbody>\n",
              "</table>\n",
              "<p>767 rows × 5 columns</p>\n",
              "</div>\n",
              "      <button class=\"colab-df-convert\" onclick=\"convertToInteractive('df-56fedbe8-97e7-44a8-ab3f-4c4594d85cc9')\"\n",
              "              title=\"Convert this dataframe to an interactive table.\"\n",
              "              style=\"display:none;\">\n",
              "        \n",
              "  <svg xmlns=\"http://www.w3.org/2000/svg\" height=\"24px\"viewBox=\"0 0 24 24\"\n",
              "       width=\"24px\">\n",
              "    <path d=\"M0 0h24v24H0V0z\" fill=\"none\"/>\n",
              "    <path d=\"M18.56 5.44l.94 2.06.94-2.06 2.06-.94-2.06-.94-.94-2.06-.94 2.06-2.06.94zm-11 1L8.5 8.5l.94-2.06 2.06-.94-2.06-.94L8.5 2.5l-.94 2.06-2.06.94zm10 10l.94 2.06.94-2.06 2.06-.94-2.06-.94-.94-2.06-.94 2.06-2.06.94z\"/><path d=\"M17.41 7.96l-1.37-1.37c-.4-.4-.92-.59-1.43-.59-.52 0-1.04.2-1.43.59L10.3 9.45l-7.72 7.72c-.78.78-.78 2.05 0 2.83L4 21.41c.39.39.9.59 1.41.59.51 0 1.02-.2 1.41-.59l7.78-7.78 2.81-2.81c.8-.78.8-2.07 0-2.86zM5.41 20L4 18.59l7.72-7.72 1.47 1.35L5.41 20z\"/>\n",
              "  </svg>\n",
              "      </button>\n",
              "      \n",
              "  <style>\n",
              "    .colab-df-container {\n",
              "      display:flex;\n",
              "      flex-wrap:wrap;\n",
              "      gap: 12px;\n",
              "    }\n",
              "\n",
              "    .colab-df-convert {\n",
              "      background-color: #E8F0FE;\n",
              "      border: none;\n",
              "      border-radius: 50%;\n",
              "      cursor: pointer;\n",
              "      display: none;\n",
              "      fill: #1967D2;\n",
              "      height: 32px;\n",
              "      padding: 0 0 0 0;\n",
              "      width: 32px;\n",
              "    }\n",
              "\n",
              "    .colab-df-convert:hover {\n",
              "      background-color: #E2EBFA;\n",
              "      box-shadow: 0px 1px 2px rgba(60, 64, 67, 0.3), 0px 1px 3px 1px rgba(60, 64, 67, 0.15);\n",
              "      fill: #174EA6;\n",
              "    }\n",
              "\n",
              "    [theme=dark] .colab-df-convert {\n",
              "      background-color: #3B4455;\n",
              "      fill: #D2E3FC;\n",
              "    }\n",
              "\n",
              "    [theme=dark] .colab-df-convert:hover {\n",
              "      background-color: #434B5C;\n",
              "      box-shadow: 0px 1px 3px 1px rgba(0, 0, 0, 0.15);\n",
              "      filter: drop-shadow(0px 1px 2px rgba(0, 0, 0, 0.3));\n",
              "      fill: #FFFFFF;\n",
              "    }\n",
              "  </style>\n",
              "\n",
              "      <script>\n",
              "        const buttonEl =\n",
              "          document.querySelector('#df-56fedbe8-97e7-44a8-ab3f-4c4594d85cc9 button.colab-df-convert');\n",
              "        buttonEl.style.display =\n",
              "          google.colab.kernel.accessAllowed ? 'block' : 'none';\n",
              "\n",
              "        async function convertToInteractive(key) {\n",
              "          const element = document.querySelector('#df-56fedbe8-97e7-44a8-ab3f-4c4594d85cc9');\n",
              "          const dataTable =\n",
              "            await google.colab.kernel.invokeFunction('convertToInteractive',\n",
              "                                                     [key], {});\n",
              "          if (!dataTable) return;\n",
              "\n",
              "          const docLinkHtml = 'Like what you see? Visit the ' +\n",
              "            '<a target=\"_blank\" href=https://colab.research.google.com/notebooks/data_table.ipynb>data table notebook</a>'\n",
              "            + ' to learn more about interactive tables.';\n",
              "          element.innerHTML = '';\n",
              "          dataTable['output_type'] = 'display_data';\n",
              "          await google.colab.output.renderOutput(dataTable, element);\n",
              "          const docLink = document.createElement('div');\n",
              "          docLink.innerHTML = docLinkHtml;\n",
              "          element.appendChild(docLink);\n",
              "        }\n",
              "      </script>\n",
              "    </div>\n",
              "  </div>\n",
              "  "
            ]
          },
          "metadata": {},
          "execution_count": 8
        }
      ]
    },
    {
      "cell_type": "code",
      "source": [
        "plot_acf(serie)\n",
        "plot_pacf(serie, lags=50)"
      ],
      "metadata": {
        "colab": {
          "base_uri": "https://localhost:8080/",
          "height": 864
        },
        "id": "xTDaCoX38WOm",
        "outputId": "b444e010-7051-475b-9dd6-2c560b109709"
      },
      "execution_count": null,
      "outputs": [
        {
          "output_type": "stream",
          "name": "stderr",
          "text": [
            "/usr/local/lib/python3.9/dist-packages/statsmodels/graphics/tsaplots.py:348: FutureWarning: The default method 'yw' can produce PACF values outside of the [-1,1] interval. After 0.13, the default will change tounadjusted Yule-Walker ('ywm'). You can use this method now by setting method='ywm'.\n",
            "  warnings.warn(\n"
          ]
        },
        {
          "output_type": "execute_result",
          "data": {
            "text/plain": [
              "<Figure size 432x288 with 1 Axes>"
            ],
            "image/png": "[encoded data removed]"
          },
          "metadata": {},
          "execution_count": 9
        },
        {
          "output_type": "display_data",
          "data": {
            "text/plain": [
              "<Figure size 432x288 with 1 Axes>"
            ],
            "image/png": "[encoded data removed]"
          },
          "metadata": {
            "needs_background": "light"
          }
        },
        {
          "output_type": "display_data",
          "data": {
            "text/plain": [
              "<Figure size 432x288 with 1 Axes>"
            ],
            "image/png": "[encoded data removed]"
          },
          "metadata": {
            "needs_background": "light"
          }
        }
      ]
    },
    {
      "cell_type": "code",
      "source": [
        "feature_df = dados.iloc[0:765,2:4]\n",
        "target_df = dados.iloc[0:765,4]"
      ],
      "metadata": {
        "id": "J8i0flZz42cx"
      },
      "execution_count": null,
      "outputs": []
    },
    {
      "cell_type": "markdown",
      "source": [
        "**Padronizar features e target**"
      ],
      "metadata": {
        "id": "iY15dmRB5Rga"
      }
    },
    {
      "cell_type": "code",
      "source": [
        "scalerFeature = MinMaxScaler()\n",
        "features_scaled = scalerFeature.fit_transform(feature_df)\n",
        "features_scaled"
      ],
      "metadata": {
        "colab": {
          "base_uri": "https://localhost:8080/"
        },
        "id": "F0MddZy_5ZOm",
        "outputId": "8fca266e-8bbf-4d6b-e297-6bfa9bce2ea4"
      },
      "execution_count": null,
      "outputs": [
        {
          "output_type": "execute_result",
          "data": {
            "text/plain": [
              "array([[0.00000000e+00, 0.00000000e+00],\n",
              "       [4.08038356e-04, 8.99716943e-03],\n",
              "       [3.57033561e-03, 9.40153660e-03],\n",
              "       ...,\n",
              "       [7.00601857e-01, 7.04003235e-01],\n",
              "       [6.97031521e-01, 7.03295592e-01],\n",
              "       [7.01825972e-01, 6.99757380e-01]])"
            ]
          },
          "metadata": {},
          "execution_count": 13
        }
      ]
    },
    {
      "cell_type": "code",
      "source": [
        "target_df= np.array(target_df)\n",
        "target_df = target_df.reshape(-1,1)\n",
        "scalerTarget = MinMaxScaler()\n",
        "target_scaled = scalerTarget.fit_transform(target_df)"
      ],
      "metadata": {
        "id": "TT-BjJ0X7ahq"
      },
      "execution_count": null,
      "outputs": []
    },
    {
      "cell_type": "markdown",
      "source": [
        "**Train Test Split**"
      ],
      "metadata": {
        "id": "J6HckkzeqQhy"
      }
    },
    {
      "cell_type": "code",
      "source": [
        "X_train, X_test, y_train, y_test = train_test_split(features_scaled, target_scaled, test_size=0.2, random_state=0)"
      ],
      "metadata": {
        "id": "X5HIQlfKq7PK"
      },
      "execution_count": null,
      "outputs": []
    },
    {
      "cell_type": "code",
      "source": [
        "x_train, x_valid, y_train, y_valid = train_test_split(X_train, y_train, test_size=0.1, random_state=0)"
      ],
      "metadata": {
        "id": "6mZGtZZSWEXt"
      },
      "execution_count": null,
      "outputs": []
    },
    {
      "cell_type": "code",
      "source": [
        "x_train.shape"
      ],
      "metadata": {
        "colab": {
          "base_uri": "https://localhost:8080/"
        },
        "id": "JBsMxlvdLr10",
        "outputId": "7dfc30af-8290-4dc9-e4e2-d8c3d8a04cd9"
      },
      "execution_count": null,
      "outputs": [
        {
          "output_type": "execute_result",
          "data": {
            "text/plain": [
              "(550, 2)"
            ]
          },
          "metadata": {},
          "execution_count": 17
        }
      ]
    },
    {
      "cell_type": "markdown",
      "source": [
        "### Modelo TensorFlow"
      ],
      "metadata": {
        "id": "Igixb-PI8q_G"
      }
    },
    {
      "cell_type": "code",
      "source": [
        "modelo = tf.keras.Sequential([\n",
        "  tf.keras.layers.Dense(2,activation = 'relu'),\n",
        "  tf.keras.layers.Dense(10,activation = 'relu'),\n",
        "  tf.keras.layers.Dense(20,activation = 'relu'),\n",
        "  tf.keras.layers.Dense(15,activation = 'relu'),\n",
        "  tf.keras.layers.Dense(1,activation = 'sigmoid')\n",
        "])"
      ],
      "metadata": {
        "id": "AGv0a1gN8tHd"
      },
      "execution_count": null,
      "outputs": []
    },
    {
      "cell_type": "code",
      "source": [
        "optimizer = tf.keras.optimizers.Adam(learning_rate=0.00001)\n",
        "\n",
        "modelo.compile(optimizer = 'adam', loss = 'mean_squared_error', metrics=['accuracy'])"
      ],
      "metadata": {
        "id": "IhOEHNaMheFt"
      },
      "execution_count": null,
      "outputs": []
    },
    {
      "cell_type": "code",
      "source": [
        "history = modelo.fit(x_train, y_train, validation_data=(x_valid, y_valid), batch_size=5, epochs=100)"
      ],
      "metadata": {
        "colab": {
          "base_uri": "https://localhost:8080/"
        },
        "id": "GG8BrSvNhsXz",
        "outputId": "88cf1aab-f700-48cc-ea06-c0460984b87a"
      },
      "execution_count": null,
      "outputs": [
        {
          "output_type": "stream",
          "name": "stdout",
          "text": [
            "Epoch 1/100\n",
            "110/110 [==============================] - 3s 9ms/step - loss: 0.0715 - accuracy: 0.0018 - val_loss: 0.0475 - val_accuracy: 0.0161\n",
            "Epoch 2/100\n",
            "110/110 [==============================] - 1s 6ms/step - loss: 0.0203 - accuracy: 0.0018 - val_loss: 0.0051 - val_accuracy: 0.0161\n",
            "Epoch 3/100\n",
            "110/110 [==============================] - 1s 5ms/step - loss: 0.0029 - accuracy: 0.0018 - val_loss: 0.0021 - val_accuracy: 0.0161\n",
            "Epoch 4/100\n",
            "110/110 [==============================] - 1s 8ms/step - loss: 0.0017 - accuracy: 0.0018 - val_loss: 0.0015 - val_accuracy: 0.0161\n",
            "Epoch 5/100\n",
            "110/110 [==============================] - 0s 3ms/step - loss: 0.0013 - accuracy: 0.0018 - val_loss: 0.0012 - val_accuracy: 0.0161\n",
            "Epoch 6/100\n",
            "110/110 [==============================] - 1s 7ms/step - loss: 0.0011 - accuracy: 0.0018 - val_loss: 0.0016 - val_accuracy: 0.0161\n",
            "Epoch 7/100\n",
            "110/110 [==============================] - 1s 5ms/step - loss: 0.0010 - accuracy: 0.0018 - val_loss: 0.0011 - val_accuracy: 0.0161\n",
            "Epoch 8/100\n",
            "110/110 [==============================] - 0s 2ms/step - loss: 9.7746e-04 - accuracy: 0.0018 - val_loss: 0.0010 - val_accuracy: 0.0161\n",
            "Epoch 9/100\n",
            "110/110 [==============================] - 0s 3ms/step - loss: 9.6717e-04 - accuracy: 0.0018 - val_loss: 0.0010 - val_accuracy: 0.0161\n",
            "Epoch 10/100\n",
            "110/110 [==============================] - 0s 2ms/step - loss: 9.2205e-04 - accuracy: 0.0018 - val_loss: 0.0011 - val_accuracy: 0.0161\n",
            "Epoch 11/100\n",
            "110/110 [==============================] - 0s 3ms/step - loss: 9.6290e-04 - accuracy: 0.0018 - val_loss: 0.0010 - val_accuracy: 0.0161\n",
            "Epoch 12/100\n",
            "110/110 [==============================] - 0s 3ms/step - loss: 9.2935e-04 - accuracy: 0.0018 - val_loss: 0.0011 - val_accuracy: 0.0161\n",
            "Epoch 13/100\n",
            "110/110 [==============================] - 0s 3ms/step - loss: 9.7799e-04 - accuracy: 0.0018 - val_loss: 0.0010 - val_accuracy: 0.0161\n",
            "Epoch 14/100\n",
            "110/110 [==============================] - 0s 3ms/step - loss: 9.4796e-04 - accuracy: 0.0018 - val_loss: 0.0010 - val_accuracy: 0.0161\n",
            "Epoch 15/100\n",
            "110/110 [==============================] - 0s 2ms/step - loss: 9.3939e-04 - accuracy: 0.0018 - val_loss: 0.0011 - val_accuracy: 0.0161\n",
            "Epoch 16/100\n",
            "110/110 [==============================] - 0s 3ms/step - loss: 9.2312e-04 - accuracy: 0.0018 - val_loss: 9.9623e-04 - val_accuracy: 0.0161\n",
            "Epoch 17/100\n",
            "110/110 [==============================] - 0s 4ms/step - loss: 9.4307e-04 - accuracy: 0.0018 - val_loss: 0.0010 - val_accuracy: 0.0161\n",
            "Epoch 18/100\n",
            "110/110 [==============================] - 1s 5ms/step - loss: 9.1992e-04 - accuracy: 0.0018 - val_loss: 0.0010 - val_accuracy: 0.0161\n",
            "Epoch 19/100\n",
            "110/110 [==============================] - 1s 6ms/step - loss: 9.5614e-04 - accuracy: 0.0018 - val_loss: 0.0015 - val_accuracy: 0.0161\n",
            "Epoch 20/100\n",
            "110/110 [==============================] - 1s 7ms/step - loss: 9.6433e-04 - accuracy: 0.0018 - val_loss: 0.0010 - val_accuracy: 0.0161\n",
            "Epoch 21/100\n",
            "110/110 [==============================] - 1s 9ms/step - loss: 9.4355e-04 - accuracy: 0.0018 - val_loss: 0.0010 - val_accuracy: 0.0161\n",
            "Epoch 22/100\n",
            "110/110 [==============================] - 1s 9ms/step - loss: 9.1920e-04 - accuracy: 0.0018 - val_loss: 0.0011 - val_accuracy: 0.0161\n",
            "Epoch 23/100\n",
            "110/110 [==============================] - 1s 9ms/step - loss: 9.4882e-04 - accuracy: 0.0018 - val_loss: 0.0010 - val_accuracy: 0.0161\n",
            "Epoch 24/100\n",
            "110/110 [==============================] - 1s 6ms/step - loss: 9.3186e-04 - accuracy: 0.0018 - val_loss: 0.0011 - val_accuracy: 0.0161\n",
            "Epoch 25/100\n",
            "110/110 [==============================] - 1s 5ms/step - loss: 9.7540e-04 - accuracy: 0.0018 - val_loss: 0.0012 - val_accuracy: 0.0161\n",
            "Epoch 26/100\n",
            "110/110 [==============================] - 1s 6ms/step - loss: 9.6887e-04 - accuracy: 0.0018 - val_loss: 0.0011 - val_accuracy: 0.0161\n",
            "Epoch 27/100\n",
            "110/110 [==============================] - 1s 7ms/step - loss: 9.3287e-04 - accuracy: 0.0018 - val_loss: 0.0010 - val_accuracy: 0.0161\n",
            "Epoch 28/100\n",
            "110/110 [==============================] - 1s 7ms/step - loss: 9.1306e-04 - accuracy: 0.0018 - val_loss: 0.0010 - val_accuracy: 0.0161\n",
            "Epoch 29/100\n",
            "110/110 [==============================] - 1s 6ms/step - loss: 9.4678e-04 - accuracy: 0.0018 - val_loss: 0.0011 - val_accuracy: 0.0161\n",
            "Epoch 30/100\n",
            "110/110 [==============================] - 1s 6ms/step - loss: 9.3322e-04 - accuracy: 0.0018 - val_loss: 0.0010 - val_accuracy: 0.0161\n",
            "Epoch 31/100\n",
            "110/110 [==============================] - 1s 7ms/step - loss: 9.2047e-04 - accuracy: 0.0018 - val_loss: 0.0013 - val_accuracy: 0.0161\n",
            "Epoch 32/100\n",
            "110/110 [==============================] - 1s 6ms/step - loss: 0.0010 - accuracy: 0.0018 - val_loss: 0.0013 - val_accuracy: 0.0161\n",
            "Epoch 33/100\n",
            "110/110 [==============================] - 1s 5ms/step - loss: 9.1819e-04 - accuracy: 0.0018 - val_loss: 0.0010 - val_accuracy: 0.0161\n",
            "Epoch 34/100\n",
            "110/110 [==============================] - 1s 6ms/step - loss: 9.0927e-04 - accuracy: 0.0018 - val_loss: 0.0011 - val_accuracy: 0.0161\n",
            "Epoch 35/100\n",
            "110/110 [==============================] - 0s 5ms/step - loss: 9.3472e-04 - accuracy: 0.0018 - val_loss: 0.0010 - val_accuracy: 0.0161\n",
            "Epoch 36/100\n",
            "110/110 [==============================] - 1s 7ms/step - loss: 9.3732e-04 - accuracy: 0.0018 - val_loss: 0.0012 - val_accuracy: 0.0161\n",
            "Epoch 37/100\n",
            "110/110 [==============================] - 1s 5ms/step - loss: 9.8199e-04 - accuracy: 0.0018 - val_loss: 0.0014 - val_accuracy: 0.0161\n",
            "Epoch 38/100\n",
            "110/110 [==============================] - 1s 6ms/step - loss: 0.0010 - accuracy: 0.0018 - val_loss: 0.0010 - val_accuracy: 0.0161\n",
            "Epoch 39/100\n",
            "110/110 [==============================] - 1s 8ms/step - loss: 9.3894e-04 - accuracy: 0.0018 - val_loss: 0.0011 - val_accuracy: 0.0161\n",
            "Epoch 40/100\n",
            "110/110 [==============================] - 1s 10ms/step - loss: 9.4673e-04 - accuracy: 0.0018 - val_loss: 0.0011 - val_accuracy: 0.0161\n",
            "Epoch 41/100\n",
            "110/110 [==============================] - 1s 10ms/step - loss: 9.7026e-04 - accuracy: 0.0018 - val_loss: 0.0011 - val_accuracy: 0.0161\n",
            "Epoch 42/100\n",
            "110/110 [==============================] - 1s 6ms/step - loss: 0.0010 - accuracy: 0.0018 - val_loss: 0.0011 - val_accuracy: 0.0161\n",
            "Epoch 43/100\n",
            "110/110 [==============================] - 1s 5ms/step - loss: 9.3220e-04 - accuracy: 0.0018 - val_loss: 9.9339e-04 - val_accuracy: 0.0161\n",
            "Epoch 44/100\n",
            "110/110 [==============================] - 1s 5ms/step - loss: 9.1024e-04 - accuracy: 0.0018 - val_loss: 0.0013 - val_accuracy: 0.0161\n",
            "Epoch 45/100\n",
            "110/110 [==============================] - 1s 5ms/step - loss: 9.4482e-04 - accuracy: 0.0018 - val_loss: 0.0011 - val_accuracy: 0.0161\n",
            "Epoch 46/100\n",
            "110/110 [==============================] - 1s 5ms/step - loss: 9.1574e-04 - accuracy: 0.0018 - val_loss: 0.0010 - val_accuracy: 0.0161\n",
            "Epoch 47/100\n",
            "110/110 [==============================] - 0s 4ms/step - loss: 9.1509e-04 - accuracy: 0.0018 - val_loss: 0.0012 - val_accuracy: 0.0161\n",
            "Epoch 48/100\n",
            "110/110 [==============================] - 0s 3ms/step - loss: 9.5678e-04 - accuracy: 0.0018 - val_loss: 0.0010 - val_accuracy: 0.0161\n",
            "Epoch 49/100\n",
            "110/110 [==============================] - 0s 3ms/step - loss: 0.0010 - accuracy: 0.0018 - val_loss: 0.0010 - val_accuracy: 0.0161\n",
            "Epoch 50/100\n",
            "110/110 [==============================] - 0s 3ms/step - loss: 9.5812e-04 - accuracy: 0.0018 - val_loss: 0.0010 - val_accuracy: 0.0161\n",
            "Epoch 51/100\n",
            "110/110 [==============================] - 0s 3ms/step - loss: 9.2720e-04 - accuracy: 0.0018 - val_loss: 0.0011 - val_accuracy: 0.0161\n",
            "Epoch 52/100\n",
            "110/110 [==============================] - 0s 3ms/step - loss: 9.4325e-04 - accuracy: 0.0018 - val_loss: 0.0010 - val_accuracy: 0.0161\n",
            "Epoch 53/100\n",
            "110/110 [==============================] - 0s 3ms/step - loss: 9.7474e-04 - accuracy: 0.0018 - val_loss: 0.0011 - val_accuracy: 0.0161\n",
            "Epoch 54/100\n",
            "110/110 [==============================] - 0s 2ms/step - loss: 9.4195e-04 - accuracy: 0.0018 - val_loss: 0.0011 - val_accuracy: 0.0161\n",
            "Epoch 55/100\n",
            "110/110 [==============================] - 0s 2ms/step - loss: 9.1987e-04 - accuracy: 0.0018 - val_loss: 0.0010 - val_accuracy: 0.0161\n",
            "Epoch 56/100\n",
            "110/110 [==============================] - 0s 3ms/step - loss: 9.9921e-04 - accuracy: 0.0018 - val_loss: 0.0011 - val_accuracy: 0.0161\n",
            "Epoch 57/100\n",
            "110/110 [==============================] - 0s 3ms/step - loss: 0.0010 - accuracy: 0.0018 - val_loss: 9.9906e-04 - val_accuracy: 0.0161\n",
            "Epoch 58/100\n",
            "110/110 [==============================] - 0s 3ms/step - loss: 9.0542e-04 - accuracy: 0.0018 - val_loss: 0.0011 - val_accuracy: 0.0161\n",
            "Epoch 59/100\n",
            "110/110 [==============================] - 0s 3ms/step - loss: 9.8337e-04 - accuracy: 0.0018 - val_loss: 0.0012 - val_accuracy: 0.0161\n",
            "Epoch 60/100\n",
            "110/110 [==============================] - 0s 3ms/step - loss: 9.6682e-04 - accuracy: 0.0018 - val_loss: 0.0013 - val_accuracy: 0.0161\n",
            "Epoch 61/100\n",
            "110/110 [==============================] - 0s 3ms/step - loss: 0.0010 - accuracy: 0.0018 - val_loss: 0.0012 - val_accuracy: 0.0161\n",
            "Epoch 62/100\n",
            "110/110 [==============================] - 0s 2ms/step - loss: 9.3403e-04 - accuracy: 0.0018 - val_loss: 0.0011 - val_accuracy: 0.0161\n",
            "Epoch 63/100\n",
            "110/110 [==============================] - 0s 3ms/step - loss: 9.2666e-04 - accuracy: 0.0018 - val_loss: 0.0010 - val_accuracy: 0.0161\n",
            "Epoch 64/100\n",
            "110/110 [==============================] - 0s 3ms/step - loss: 8.9882e-04 - accuracy: 0.0018 - val_loss: 0.0010 - val_accuracy: 0.0161\n",
            "Epoch 65/100\n",
            "110/110 [==============================] - 0s 3ms/step - loss: 9.9178e-04 - accuracy: 0.0018 - val_loss: 0.0010 - val_accuracy: 0.0161\n",
            "Epoch 66/100\n",
            "110/110 [==============================] - 0s 3ms/step - loss: 0.0010 - accuracy: 0.0018 - val_loss: 0.0011 - val_accuracy: 0.0161\n",
            "Epoch 67/100\n",
            "110/110 [==============================] - 0s 3ms/step - loss: 9.3332e-04 - accuracy: 0.0018 - val_loss: 0.0011 - val_accuracy: 0.0161\n",
            "Epoch 68/100\n",
            "110/110 [==============================] - 0s 3ms/step - loss: 9.3349e-04 - accuracy: 0.0018 - val_loss: 9.9691e-04 - val_accuracy: 0.0161\n",
            "Epoch 69/100\n",
            "110/110 [==============================] - 0s 2ms/step - loss: 9.0841e-04 - accuracy: 0.0018 - val_loss: 9.9907e-04 - val_accuracy: 0.0161\n",
            "Epoch 70/100\n",
            "110/110 [==============================] - 0s 3ms/step - loss: 9.2165e-04 - accuracy: 0.0018 - val_loss: 0.0010 - val_accuracy: 0.0161\n",
            "Epoch 71/100\n",
            "110/110 [==============================] - 0s 4ms/step - loss: 9.4027e-04 - accuracy: 0.0018 - val_loss: 9.9807e-04 - val_accuracy: 0.0161\n",
            "Epoch 72/100\n",
            "110/110 [==============================] - 0s 4ms/step - loss: 9.1687e-04 - accuracy: 0.0018 - val_loss: 0.0010 - val_accuracy: 0.0161\n",
            "Epoch 73/100\n",
            "110/110 [==============================] - 1s 5ms/step - loss: 9.3870e-04 - accuracy: 0.0018 - val_loss: 0.0012 - val_accuracy: 0.0161\n",
            "Epoch 74/100\n",
            "110/110 [==============================] - 1s 5ms/step - loss: 9.3028e-04 - accuracy: 0.0018 - val_loss: 0.0010 - val_accuracy: 0.0161\n",
            "Epoch 75/100\n",
            "110/110 [==============================] - 1s 5ms/step - loss: 9.3208e-04 - accuracy: 0.0018 - val_loss: 0.0010 - val_accuracy: 0.0161\n",
            "Epoch 76/100\n",
            "110/110 [==============================] - 0s 3ms/step - loss: 9.1703e-04 - accuracy: 0.0018 - val_loss: 0.0012 - val_accuracy: 0.0161\n",
            "Epoch 77/100\n",
            "110/110 [==============================] - 0s 3ms/step - loss: 9.1149e-04 - accuracy: 0.0018 - val_loss: 0.0010 - val_accuracy: 0.0161\n",
            "Epoch 78/100\n",
            "110/110 [==============================] - 0s 3ms/step - loss: 9.3577e-04 - accuracy: 0.0018 - val_loss: 0.0013 - val_accuracy: 0.0161\n",
            "Epoch 79/100\n",
            "110/110 [==============================] - 0s 3ms/step - loss: 9.2720e-04 - accuracy: 0.0018 - val_loss: 0.0011 - val_accuracy: 0.0161\n",
            "Epoch 80/100\n",
            "110/110 [==============================] - 0s 3ms/step - loss: 9.3953e-04 - accuracy: 0.0018 - val_loss: 9.9951e-04 - val_accuracy: 0.0161\n",
            "Epoch 81/100\n",
            "110/110 [==============================] - 0s 3ms/step - loss: 9.2563e-04 - accuracy: 0.0018 - val_loss: 9.9926e-04 - val_accuracy: 0.0161\n",
            "Epoch 82/100\n",
            "110/110 [==============================] - 0s 3ms/step - loss: 9.2138e-04 - accuracy: 0.0018 - val_loss: 0.0010 - val_accuracy: 0.0161\n",
            "Epoch 83/100\n",
            "110/110 [==============================] - 0s 3ms/step - loss: 9.2370e-04 - accuracy: 0.0018 - val_loss: 0.0012 - val_accuracy: 0.0161\n",
            "Epoch 84/100\n",
            "110/110 [==============================] - 0s 3ms/step - loss: 9.3626e-04 - accuracy: 0.0018 - val_loss: 0.0011 - val_accuracy: 0.0161\n",
            "Epoch 85/100\n",
            "110/110 [==============================] - 0s 3ms/step - loss: 9.2658e-04 - accuracy: 0.0018 - val_loss: 0.0011 - val_accuracy: 0.0161\n",
            "Epoch 86/100\n",
            "110/110 [==============================] - 0s 3ms/step - loss: 9.1897e-04 - accuracy: 0.0018 - val_loss: 0.0012 - val_accuracy: 0.0161\n",
            "Epoch 87/100\n",
            "110/110 [==============================] - 0s 3ms/step - loss: 0.0010 - accuracy: 0.0018 - val_loss: 0.0010 - val_accuracy: 0.0161\n",
            "Epoch 88/100\n",
            "110/110 [==============================] - 0s 3ms/step - loss: 8.9808e-04 - accuracy: 0.0018 - val_loss: 0.0012 - val_accuracy: 0.0161\n",
            "Epoch 89/100\n",
            "110/110 [==============================] - 0s 3ms/step - loss: 9.2899e-04 - accuracy: 0.0018 - val_loss: 0.0012 - val_accuracy: 0.0161\n",
            "Epoch 90/100\n",
            "110/110 [==============================] - 0s 3ms/step - loss: 9.3752e-04 - accuracy: 0.0018 - val_loss: 0.0010 - val_accuracy: 0.0161\n",
            "Epoch 91/100\n",
            "110/110 [==============================] - 0s 3ms/step - loss: 9.4428e-04 - accuracy: 0.0018 - val_loss: 0.0010 - val_accuracy: 0.0161\n",
            "Epoch 92/100\n",
            "110/110 [==============================] - 0s 3ms/step - loss: 9.1616e-04 - accuracy: 0.0018 - val_loss: 0.0011 - val_accuracy: 0.0161\n",
            "Epoch 93/100\n",
            "110/110 [==============================] - 0s 3ms/step - loss: 9.2791e-04 - accuracy: 0.0018 - val_loss: 0.0010 - val_accuracy: 0.0161\n",
            "Epoch 94/100\n",
            "110/110 [==============================] - 0s 3ms/step - loss: 9.0964e-04 - accuracy: 0.0018 - val_loss: 0.0010 - val_accuracy: 0.0161\n",
            "Epoch 95/100\n",
            "110/110 [==============================] - 0s 3ms/step - loss: 9.0165e-04 - accuracy: 0.0018 - val_loss: 9.7189e-04 - val_accuracy: 0.0161\n",
            "Epoch 96/100\n",
            "110/110 [==============================] - 0s 3ms/step - loss: 8.8606e-04 - accuracy: 0.0018 - val_loss: 0.0010 - val_accuracy: 0.0161\n",
            "Epoch 97/100\n",
            "110/110 [==============================] - 0s 3ms/step - loss: 9.1676e-04 - accuracy: 0.0018 - val_loss: 9.5425e-04 - val_accuracy: 0.0161\n",
            "Epoch 98/100\n",
            "110/110 [==============================] - 0s 2ms/step - loss: 8.8290e-04 - accuracy: 0.0018 - val_loss: 0.0011 - val_accuracy: 0.0161\n",
            "Epoch 99/100\n",
            "110/110 [==============================] - 0s 3ms/step - loss: 9.2078e-04 - accuracy: 0.0018 - val_loss: 9.6678e-04 - val_accuracy: 0.0161\n",
            "Epoch 100/100\n",
            "110/110 [==============================] - 0s 3ms/step - loss: 9.3714e-04 - accuracy: 0.0018 - val_loss: 0.0011 - val_accuracy: 0.0161\n"
          ]
        }
      ]
    },
    {
      "cell_type": "code",
      "source": [
        "x_hat = modelo.predict(X_test)"
      ],
      "metadata": {
        "id": "nhJGMNG69lBJ",
        "colab": {
          "base_uri": "https://localhost:8080/"
        },
        "outputId": "b44b9a2d-758f-4f1d-99e8-ec3fc9ffb84c"
      },
      "execution_count": null,
      "outputs": [
        {
          "output_type": "execute_result",
          "data": {
            "text/plain": [
              "array([[0.7108447 ],\n",
              "       [0.16153175],\n",
              "       [0.14349097],\n",
              "       [0.08059678],\n",
              "       [0.23225772],\n",
              "       [0.14356375],\n",
              "       [0.2507974 ],\n",
              "       [0.4617183 ],\n",
              "       [0.8956452 ],\n",
              "       [0.5735297 ],\n",
              "       [0.08227056],\n",
              "       [0.5653147 ],\n",
              "       [0.4418938 ],\n",
              "       [0.700403  ],\n",
              "       [0.74555415],\n",
              "       [0.864393  ],\n",
              "       [0.1790903 ],\n",
              "       [0.10268024],\n",
              "       [0.5859537 ],\n",
              "       [0.44115698],\n",
              "       [0.44563502],\n",
              "       [0.5034147 ],\n",
              "       [0.46508348],\n",
              "       [0.47481954],\n",
              "       [0.07994717],\n",
              "       [0.91022605],\n",
              "       [0.5694028 ],\n",
              "       [0.75026375],\n",
              "       [0.10309582],\n",
              "       [0.59994173],\n",
              "       [0.8485303 ],\n",
              "       [0.5950699 ],\n",
              "       [0.84060025],\n",
              "       [0.40651125],\n",
              "       [0.8478054 ],\n",
              "       [0.47583282],\n",
              "       [0.7963785 ],\n",
              "       [0.17112069],\n",
              "       [0.18145476],\n",
              "       [0.09087771],\n",
              "       [0.7227713 ],\n",
              "       [0.48073116],\n",
              "       [0.48397383],\n",
              "       [0.1458664 ],\n",
              "       [0.07955675],\n",
              "       [0.1906627 ],\n",
              "       [0.4790621 ],\n",
              "       [0.4608688 ],\n",
              "       [0.18193638],\n",
              "       [0.15176918],\n",
              "       [0.90323883],\n",
              "       [0.19305937],\n",
              "       [0.15888369],\n",
              "       [0.16840208],\n",
              "       [0.57573485],\n",
              "       [0.10279116],\n",
              "       [0.07936671],\n",
              "       [0.3008197 ],\n",
              "       [0.80143154],\n",
              "       [0.15221836],\n",
              "       [0.7156628 ],\n",
              "       [0.86704546],\n",
              "       [0.5913231 ],\n",
              "       [0.47616702],\n",
              "       [0.905149  ],\n",
              "       [0.17274298],\n",
              "       [0.6872383 ],\n",
              "       [0.8683645 ],\n",
              "       [0.18456662],\n",
              "       [0.5132373 ],\n",
              "       [0.8567467 ],\n",
              "       [0.18173575],\n",
              "       [0.7416683 ],\n",
              "       [0.22339   ],\n",
              "       [0.9106107 ],\n",
              "       [0.90974975],\n",
              "       [0.32377872],\n",
              "       [0.46899962],\n",
              "       [0.458684  ],\n",
              "       [0.81946486],\n",
              "       [0.78545386],\n",
              "       [0.1859602 ],\n",
              "       [0.10910376],\n",
              "       [0.31931707],\n",
              "       [0.8224474 ],\n",
              "       [0.51571935],\n",
              "       [0.9006111 ],\n",
              "       [0.0843908 ],\n",
              "       [0.7044967 ],\n",
              "       [0.89716184],\n",
              "       [0.7491666 ],\n",
              "       [0.16529214],\n",
              "       [0.15905346],\n",
              "       [0.09957986],\n",
              "       [0.87842077],\n",
              "       [0.9029901 ],\n",
              "       [0.8170905 ],\n",
              "       [0.4820369 ],\n",
              "       [0.08965397],\n",
              "       [0.576777  ],\n",
              "       [0.44123033],\n",
              "       [0.16918224],\n",
              "       [0.0802706 ],\n",
              "       [0.10367343],\n",
              "       [0.58585244],\n",
              "       [0.804968  ],\n",
              "       [0.84756315],\n",
              "       [0.48128247],\n",
              "       [0.91123253],\n",
              "       [0.0792004 ],\n",
              "       [0.7117115 ],\n",
              "       [0.42064723],\n",
              "       [0.16129637],\n",
              "       [0.1547865 ],\n",
              "       [0.15461223],\n",
              "       [0.16494253],\n",
              "       [0.7340039 ],\n",
              "       [0.45520324],\n",
              "       [0.5054948 ],\n",
              "       [0.72528845],\n",
              "       [0.1758223 ],\n",
              "       [0.43083757],\n",
              "       [0.88061255],\n",
              "       [0.71810585],\n",
              "       [0.8084227 ],\n",
              "       [0.73372287],\n",
              "       [0.14697032],\n",
              "       [0.7337986 ],\n",
              "       [0.73916686],\n",
              "       [0.74584854],\n",
              "       [0.10367343],\n",
              "       [0.09917511],\n",
              "       [0.462677  ],\n",
              "       [0.48085082],\n",
              "       [0.9030631 ],\n",
              "       [0.08739537],\n",
              "       [0.7673973 ],\n",
              "       [0.09798831],\n",
              "       [0.7318999 ],\n",
              "       [0.5501606 ],\n",
              "       [0.52645844],\n",
              "       [0.23456405],\n",
              "       [0.43232423],\n",
              "       [0.10090363],\n",
              "       [0.10081162],\n",
              "       [0.9010213 ],\n",
              "       [0.09820853],\n",
              "       [0.5545989 ],\n",
              "       [0.80098134],\n",
              "       [0.5486784 ],\n",
              "       [0.9110753 ],\n",
              "       [0.73181397],\n",
              "       [0.27520385]], dtype=float32)"
            ]
          },
          "metadata": {},
          "execution_count": 27
        }
      ]
    },
    {
      "cell_type": "code",
      "source": [
        "from sklearn.metrics import r2_score\n",
        "\n",
        "r2_score(y_test, x_hat)"
      ],
      "metadata": {
        "colab": {
          "base_uri": "https://localhost:8080/"
        },
        "id": "Mm5fkf1d9qZe",
        "outputId": "532d3fca-e532-44b8-f548-b09171a15d67"
      },
      "execution_count": null,
      "outputs": [
        {
          "output_type": "execute_result",
          "data": {
            "text/plain": [
              "0.9874284853798158"
            ]
          },
          "metadata": {},
          "execution_count": 24
        }
      ]
    },
    {
      "cell_type": "code",
      "source": [
        "y_test_normal = scalerTarget.inverse_transform(y_test)\n",
        "x_hat_normal = scalerTarget.inverse_transform(x_hat)"
      ],
      "metadata": {
        "id": "fzb4akyw0ZRV"
      },
      "execution_count": null,
      "outputs": []
    },
    {
      "cell_type": "markdown",
      "source": [
        "## Gráfico"
      ],
      "metadata": {
        "id": "RZNzlTBxt9Tx"
      }
    },
    {
      "cell_type": "code",
      "source": [
        "df_graph = pd.DataFrame()\n",
        "\n",
        "y_test_series = pd.Series(y_test_normal.flatten())\n",
        "df_graph['Actual'] = y_test_series\n",
        "\n",
        "y_pred_series = pd.Series(x_hat_normal.flatten())\n",
        "df_graph['Pred'] = y_pred_series\n",
        "\n",
        "sns.lineplot(data=df_graph)"
      ],
      "metadata": {
        "colab": {
          "base_uri": "https://localhost:8080/",
          "height": 284
        },
        "id": "ap-y9_dNt_I1",
        "outputId": "f4d34cb1-93ca-4f4b-e71d-f7202f5ac871"
      },
      "execution_count": null,
      "outputs": [
        {
          "output_type": "execute_result",
          "data": {
            "text/plain": [
              "<matplotlib.axes._subplots.AxesSubplot at 0x7fee51d038d0>"
            ]
          },
          "metadata": {},
          "execution_count": 40
        },
        {
          "output_type": "display_data",
          "data": {
            "text/plain": [
              "<Figure size 432x288 with 1 Axes>"
            ],
            "image/png": "[encoded data removed]"
          },
          "metadata": {
            "needs_background": "light"
          }
        }
      ]
    },
    {
      "cell_type": "markdown",
      "source": [
        "**Overfitting?**"
      ],
      "metadata": {
        "id": "DNSMsNVh2qsB"
      }
    },
    {
      "cell_type": "code",
      "source": [
        "history_df = pd.DataFrame(history.history)\n",
        "history_df.loc[:, ['loss', 'val_loss']].plot();\n",
        "print(\"Minimum validation loss: {}\".format(history_df['val_loss'].min()))"
      ],
      "metadata": {
        "colab": {
          "base_uri": "https://localhost:8080/",
          "height": 282
        },
        "id": "FbRdPHch3bnk",
        "outputId": "0afab9dd-3273-4aa6-9c19-fe9132bf843b"
      },
      "execution_count": null,
      "outputs": [
        {
          "output_type": "stream",
          "name": "stdout",
          "text": [
            "Minimum validation loss: 0.0009426436736248434\n"
          ]
        },
        {
          "output_type": "display_data",
          "data": {
            "text/plain": [
              "<Figure size 432x288 with 1 Axes>"
            ],
            "image/png": "[encoded data removed]"
          },
          "metadata": {
            "needs_background": "light"
          }
        }
      ]
    },
    {
      "cell_type": "markdown",
      "source": [
        "**Sazonalidade e Ajuste**"
      ],
      "metadata": {
        "id": "m0dnDtklEBO8"
      }
    },
    {
      "cell_type": "code",
      "source": [
        "des_serie = sm.tsa.seasonal_decompose(dados[\"indicador\"],period=365,model=\"multiplicative\")"
      ],
      "metadata": {
        "id": "eziEfxeEEERI"
      },
      "execution_count": null,
      "outputs": []
    },
    {
      "cell_type": "code",
      "source": [
        "des_serie.plot()"
      ],
      "metadata": {
        "colab": {
          "base_uri": "https://localhost:8080/",
          "height": 577
        },
        "id": "kh-j31yNIaEP",
        "outputId": "53af2e57-ea2a-4f62-969a-8605d954682f"
      },
      "execution_count": null,
      "outputs": [
        {
          "output_type": "execute_result",
          "data": {
            "text/plain": [
              "<Figure size 432x288 with 4 Axes>"
            ],
            "image/png": "[encoded data removed]"
          },
          "metadata": {},
          "execution_count": 24
        },
        {
          "output_type": "display_data",
          "data": {
            "text/plain": [
              "<Figure size 432x288 with 4 Axes>"
            ],
            "image/png": "[encoded data removed]"
          },
          "metadata": {
            "needs_background": "light"
          }
        }
      ]
    },
    {
      "cell_type": "code",
      "source": [
        "serie = dados[\"indicador\"]\n",
        "serie = serie.diff()"
      ],
      "metadata": {
        "id": "8BeOu1XX5oKc"
      },
      "execution_count": null,
      "outputs": []
    },
    {
      "cell_type": "code",
      "source": [
        "plt.figure()\n",
        "plt.plot(serie)"
      ],
      "metadata": {
        "colab": {
          "base_uri": "https://localhost:8080/",
          "height": 282
        },
        "id": "074uvNR87Gyy",
        "outputId": "45941446-21ab-4c57-988f-b9f4a8242bb3"
      },
      "execution_count": null,
      "outputs": [
        {
          "output_type": "execute_result",
          "data": {
            "text/plain": [
              "[<matplotlib.lines.Line2D at 0x7f2a94b29690>]"
            ]
          },
          "metadata": {},
          "execution_count": 26
        },
        {
          "output_type": "display_data",
          "data": {
            "text/plain": [
              "<Figure size 432x288 with 1 Axes>"
            ],
            "image/png": "[encoded data removed]"
          },
          "metadata": {
            "needs_background": "light"
          }
        }
      ]
    }
  ]
}